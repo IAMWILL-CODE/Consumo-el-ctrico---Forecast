{
 "cells": [
  {
   "cell_type": "markdown",
   "id": "318f2a33-2b28-4552-b4ad-26b36913b0ae",
   "metadata": {
    "tags": []
   },
   "source": [
    "# Proyecto Final - MODELOS PREDICTIVOS\n",
    "# Autor: Vásquez, William 8-889-868"
   ]
  },
  {
   "cell_type": "markdown",
   "id": "97e6c026-e2ab-448e-a669-24d32c8a4914",
   "metadata": {},
   "source": [
    "#### Importamos las librerias necesarias"
   ]
  },
  {
   "cell_type": "code",
   "execution_count": null,
   "id": "8c33ba12-1060-4e67-8103-fc5e44c9c75a",
   "metadata": {
    "tags": []
   },
   "outputs": [],
   "source": [
    "import pandas as pd\n",
    "import numpy as np\n",
    "import matplotlib.pyplot as plt\n",
    "import seaborn as sns\n",
    "from scipy.stats import t\n",
    "from statsmodels.tsa.holtwinters import SimpleExpSmoothing\n",
    "from statsmodels.tsa.holtwinters import Holt\n",
    "from statsmodels.tsa.holtwinters import ExponentialSmoothing\n",
    "from sklearn.model_selection import train_test_split\n",
    "from sklearn.linear_model import LinearRegression\n",
    "from statsmodels.tsa.statespace.sarimax import SARIMAX\n",
    "from prophet import Prophet\n",
    "from tabulate import tabulate\n",
    "\n",
    "\n",
    "\n",
    "import warnings \n",
    "warnings.filterwarnings(\"ignore\")\n"
   ]
  },
  {
   "cell_type": "markdown",
   "id": "9c1a679e-e741-41e0-9adf-2c9e4fe347aa",
   "metadata": {},
   "source": [
    "### Data ENSA 2021 - 2023"
   ]
  },
  {
   "cell_type": "code",
   "execution_count": null,
   "id": "0ce9ce71-5182-43bd-b010-f17f628340ad",
   "metadata": {
    "tags": []
   },
   "outputs": [],
   "source": [
    "data = pd.DataFrame({\n",
    "    \"Periodo\" : [1, 2, 3, 4, 5, 6, 7, 8, 9, 10,\n",
    "                 11, 12, 13, 14, 15, 16, 17, 18, 19, 20,\n",
    "                 21, 22, 23, 24, 25, 26, 27, 28, 29, 30, \n",
    "                 31, 32, 33, 34, 35, 36],\n",
    "    \"Energia MWh\": [\n",
    "        232635168, 226840103, 242701941, 251443203, 251667868, 247422919,\n",
    "        253772321, 251355408, 245272330, 249948530, 240632020, 248424779,\n",
    "        248484404, 241942944, 254560420, 261669170, 262535423, 252361393,\n",
    "        252123727, 255272872, 251293531, 250601276, 241522632, 254556267,\n",
    "        250119557, 241106027, 262660841, 267785178, 282952947, 276303521,\n",
    "        272573028, 278698818, 277187182, 276373692, 257876226, 279785978\n",
    "    ]\n",
    "})\n",
    "# Convertimos la columna 'Periodo' en el índice para facilitar el manejo de series temporales\n",
    "data.set_index('Periodo', inplace=True)"
   ]
  },
  {
   "cell_type": "markdown",
   "id": "3b0eb6bc-d92c-4e56-a989-4e5c4bcff56e",
   "metadata": {
    "tags": []
   },
   "source": [
    "### Grafica del consumo mensual ENSA"
   ]
  },
  {
   "cell_type": "code",
   "execution_count": null,
   "id": "a722a0fb-0e83-408b-9f8a-1e6dc883a59b",
   "metadata": {
    "tags": []
   },
   "outputs": [],
   "source": [
    "plt.figure(figsize=(10, 6))\n",
    "\n",
    "# Graficar los datos históricos\n",
    "plt.plot(list(range(1,37)), data['Energia MWh'], marker='.', color='blue', label='Consumo Histórico')\n",
    "\n",
    "        \n",
    "\n",
    "plt.xlabel('Periodo')\n",
    "plt.ylabel('Energía MWh')\n",
    "plt.title('ENSA 2021 - 2023')\n",
    "plt.legend()\n",
    "plt.grid(True)\n",
    "\n",
    "# Mostrar la gráfica\n",
    "plt.show()"
   ]
  },
  {
   "cell_type": "markdown",
   "id": "3ae0960c-5e10-4e90-aa3e-e0ebfc4106b6",
   "metadata": {},
   "source": [
    "### Promedio móvil"
   ]
  },
  {
   "cell_type": "code",
   "execution_count": null,
   "id": "c4cac54e-f7f0-4ddd-8b32-d29e884db3bf",
   "metadata": {
    "tags": []
   },
   "outputs": [],
   "source": [
    "#Promedio Movil\n",
    "\n",
    "data[\"Promedio Movil\"] = data [\"Energia MWh\"].rolling(window=4).mean()\n",
    "\n",
    "forecast_ma = data[\"Energia MWh\"].rolling(window=4).mean().iloc[-1]\n",
    "\n",
    "forecast_ma"
   ]
  },
  {
   "cell_type": "code",
   "execution_count": null,
   "id": "891f9e52-9d0e-488f-b28d-cc76747b0dc9",
   "metadata": {
    "tags": []
   },
   "outputs": [],
   "source": [
    "# MAD\n",
    "mad_prom_movil = data['Energia MWh'].sub(data['Energia MWh'].rolling(window=4).mean().shift(1)).abs().mean()\n",
    "print(f\"MAD: {mad_prom_movil}\")\n",
    "\n",
    "# MAPE\n",
    "mape_prom_movil = data['Energia MWh'].sub(data['Energia MWh'].rolling(window=4).mean().shift(1)).abs().div(data['Energia MWh']).mean() * 100\n",
    "print(f\"MAPE: {mape_prom_movil}%\")\n"
   ]
  },
  {
   "cell_type": "code",
   "execution_count": null,
   "id": "b81e146c-9d79-4bb8-8d4d-99fb9398c343",
   "metadata": {
    "tags": []
   },
   "outputs": [],
   "source": [
    "#Graficamos\n",
    "# Crear la figura y los ejes\n",
    "plt.figure(figsize=(10, 6))\n",
    "\n",
    "# Graficar los datos históricos\n",
    "plt.plot(list(range(1,37)), data['Energia MWh'], marker='.', color='blue', label='Consumo Histórico')\n",
    "plt.plot(list(range(1,37)), data[\"Promedio Movil\"].shift(1), marker='.', color='red', label='Promedio Movil')\n",
    "\n",
    "\n",
    "plt.xlabel('Periodo')\n",
    "plt.ylabel('Energía MWh')\n",
    "plt.title('ENSA 2021 - 2023')\n",
    "plt.legend()\n",
    "plt.grid(True)\n",
    "\n",
    "# Mostrar la gráfica\n",
    "plt.show()"
   ]
  },
  {
   "cell_type": "markdown",
   "id": "a4a414f5-d6df-48dd-b63f-439f8922a9b1",
   "metadata": {
    "tags": []
   },
   "source": [
    "### Suavización Exponencial Simple"
   ]
  },
  {
   "cell_type": "code",
   "execution_count": null,
   "id": "177a9901-d48d-4e8e-83dc-40f79ff8c738",
   "metadata": {
    "tags": []
   },
   "outputs": [],
   "source": [
    "# Ajustar el modelo de suavización exponencial simple\n",
    "model_exp_Simple = SimpleExpSmoothing(data['Energia MWh'])\n",
    "model_fit_exp_simple = model_exp_Simple.fit()\n",
    "\n",
    "# Predecir los próximos 6 periodos\n",
    "forecast_exp_simple = model_fit_exp_simple.forecast(steps = 2)\n",
    "print(forecast_exp_simple)"
   ]
  },
  {
   "cell_type": "code",
   "execution_count": null,
   "id": "b339584f-7cfc-4717-99d9-38135ff886f7",
   "metadata": {
    "tags": []
   },
   "outputs": [],
   "source": [
    "# Cálculo de errores\n",
    "actual = data['Energia MWh'].iloc[-1]\n",
    "fitted_values_expsimple = model_fit_exp_simple.fittedvalues\n",
    "\n",
    "# MAD\n",
    "mad_exp_simple = np.mean(np.abs(data['Energia MWh'] - fitted_values_expsimple))\n",
    "print(f\"MAD: {mad_exp_simple}\")\n",
    "\n",
    "# MAPE\n",
    "mape_exp_simple = np.mean(np.abs((data['Energia MWh'] - fitted_values_expsimple) / data['Energia MWh'])) * 100\n",
    "print(f\"MAPE: {mape_exp_simple}%\")\n"
   ]
  },
  {
   "cell_type": "code",
   "execution_count": null,
   "id": "e956663e-bdeb-4eb1-a8c5-a29572aa9c32",
   "metadata": {
    "tags": []
   },
   "outputs": [],
   "source": [
    "#Graficamos\n",
    "# Crear la figura y los ejes\n",
    "plt.figure(figsize=(10, 6))\n",
    "\n",
    "# Graficar los datos históricos\n",
    "plt.plot(list(range(1,37)), data['Energia MWh'], marker='.', color='blue', label='Consumo Histórico')\n",
    "plt.plot(list(range(1,37)), fitted_values_expsimple, marker='.', color='red', label='Suavización Exponencial Simple')\n",
    "\n",
    "# Personalizar la gráfica\n",
    "plt.xlabel('Periodo')\n",
    "plt.ylabel('Energía MWh')\n",
    "plt.title('ENSA 2021 - 2023')\n",
    "plt.legend()\n",
    "plt.grid(True)\n",
    "\n",
    "# Mostrar la gráfica\n",
    "plt.show()"
   ]
  },
  {
   "cell_type": "markdown",
   "id": "dda9b430-3721-47bd-a130-924c7d1ecf05",
   "metadata": {},
   "source": [
    "### Modelo Holt"
   ]
  },
  {
   "cell_type": "code",
   "execution_count": null,
   "id": "ff26a36a-52a4-4919-aad2-d13882788ba3",
   "metadata": {
    "tags": []
   },
   "outputs": [],
   "source": [
    "# Ajustar el modelo Holt\n",
    "model_holt = Holt(data['Energia MWh']).fit()\n",
    "\n",
    "# Pronóstico\n",
    "forecast_holt = model_holt.forecast(steps=8)\n",
    "print(forecast_holt)\n"
   ]
  },
  {
   "cell_type": "code",
   "execution_count": null,
   "id": "59248564-b43b-4492-96af-800965cddc5b",
   "metadata": {
    "tags": []
   },
   "outputs": [],
   "source": [
    "# Cálculo de errores\n",
    "fitted_values_holt = model_holt.fittedvalues\n",
    "\n",
    "# MAD\n",
    "mad_holt = np.mean(np.abs(data['Energia MWh'] - fitted_values_holt))\n",
    "print(f\"MAD: {mad_holt}\")\n",
    "\n",
    "# MAPE\n",
    "mape_holt = np.mean(np.abs((data['Energia MWh'] - fitted_values_holt) / data['Energia MWh'])) * 100\n",
    "print(f\"MAPE: {mape_holt}%\")"
   ]
  },
  {
   "cell_type": "code",
   "execution_count": null,
   "id": "2b937989-1577-4608-885b-e22863faf658",
   "metadata": {
    "tags": []
   },
   "outputs": [],
   "source": [
    "#Graficamos\n",
    "# Crear la figura y los ejes\n",
    "plt.figure(figsize=(10, 6))\n",
    "\n",
    "# Graficar los datos históricos\n",
    "plt.plot(list(range(1,37)), data['Energia MWh'], marker='.', color='blue', label='Consumo Histórico')\n",
    "plt.plot(list(range(1,37)), fitted_values_holt, marker='.', color='red', label='Holt')\n",
    "\n",
    "# Personalizar la gráfica\n",
    "plt.xlabel('Periodo')\n",
    "plt.ylabel('Energía MWh')\n",
    "plt.title('ENSA 2021 - 2023')\n",
    "plt.legend()\n",
    "plt.grid(True)\n",
    "\n",
    "# Mostrar la gráfica\n",
    "plt.show()"
   ]
  },
  {
   "cell_type": "markdown",
   "id": "8fb81383-c8b3-4002-9659-7cf59e59407e",
   "metadata": {},
   "source": [
    "### Modelo Holt-Winters"
   ]
  },
  {
   "cell_type": "code",
   "execution_count": null,
   "id": "5c80d03e-6b0d-44da-9b01-8cbef7ab3077",
   "metadata": {
    "tags": []
   },
   "outputs": [],
   "source": [
    "model_HW = ExponentialSmoothing(data['Energia MWh'], seasonal='add', seasonal_periods=12).fit()\n",
    "forecast_HW = model_HW.forecast(steps=8)\n",
    "print(forecast_HW)"
   ]
  },
  {
   "cell_type": "code",
   "execution_count": null,
   "id": "44f42a22-2ad0-4cc3-8367-3ce9c8eb0925",
   "metadata": {
    "tags": []
   },
   "outputs": [],
   "source": [
    "# Cálculo de errores\n",
    "fitted_values_HW = model_HW.fittedvalues\n",
    "\n",
    "# MAD\n",
    "mad_HW = np.mean(np.abs(data['Energia MWh'] - fitted_values_HW))\n",
    "print(f\"MAD: {mad_HW}\")\n",
    "\n",
    "# MAPE\n",
    "mape_HW = np.mean(np.abs((data['Energia MWh'] - fitted_values_HW) / data['Energia MWh'])) * 100\n",
    "print(f\"MAPE: {mape_HW}%\")"
   ]
  },
  {
   "cell_type": "code",
   "execution_count": null,
   "id": "f2b8a064-28d1-4de2-98f8-4c8e6a26c2e0",
   "metadata": {
    "tags": []
   },
   "outputs": [],
   "source": [
    "#Graficamos\n",
    "# Crear la figura y los ejes\n",
    "plt.figure(figsize=(10, 6))\n",
    "\n",
    "# Graficar los datos históricos\n",
    "plt.plot(list(range(1,37)), data['Energia MWh'], marker='.', color='blue', label='Consumo Histórico')\n",
    "plt.plot(list(range(1,37)), fitted_values_HW, marker='.', color='red', label='Holt-Winter')\n",
    "\n",
    "# Personalizar la gráfica\n",
    "plt.xlabel('Periodo')\n",
    "plt.ylabel('Energía MWh')\n",
    "plt.title('ENSA 2021 - 2023')\n",
    "plt.legend()\n",
    "plt.grid(True)\n",
    "\n",
    "# Mostrar la gráfica\n",
    "plt.show()"
   ]
  },
  {
   "cell_type": "markdown",
   "id": "6f0b933e-75fd-46e6-b1e3-833e10cb1bac",
   "metadata": {},
   "source": [
    "### Regresión Lineal"
   ]
  },
  {
   "cell_type": "code",
   "execution_count": null,
   "id": "ce22f83c-1810-43d2-918d-9b95eca1150f",
   "metadata": {
    "tags": []
   },
   "outputs": [],
   "source": [
    "X = data.index.values.reshape(-1, 1)\n",
    "y = data['Energia MWh']\n",
    "X_train, X_test, y_train, y_test = train_test_split(X, y, test_size=0.2, random_state=0)\n",
    "model_RL = LinearRegression().fit(X_train, y_train)\n",
    "predictions_RL = model_RL.predict(X_test)\n",
    "print(predictions_RL)"
   ]
  },
  {
   "cell_type": "code",
   "execution_count": null,
   "id": "740e5ea2-1da0-40a0-ade2-b7256bcb6c5e",
   "metadata": {
    "tags": []
   },
   "outputs": [],
   "source": [
    "# Cálculo de errores\n",
    "fitted_values_RL = model_RL.predict(X)\n",
    "\n",
    "# MAD\n",
    "mad_RL = np.mean(np.abs(y - fitted_values_RL))\n",
    "print(f\"MAD: {mad_RL}\")\n",
    "\n",
    "# MAPE\n",
    "mape_RL = np.mean(np.abs((y - fitted_values_RL) / y)) * 100\n",
    "print(f\"MAPE: {mape_RL}%\")"
   ]
  },
  {
   "cell_type": "code",
   "execution_count": null,
   "id": "41765862-b091-45d7-8eb5-50b7daf34150",
   "metadata": {
    "tags": []
   },
   "outputs": [],
   "source": [
    "#Graficamos\n",
    "# Crear la figura y los ejes\n",
    "plt.figure(figsize=(10, 5))\n",
    "\n",
    "# Graficar los datos históricos\n",
    "plt.plot(list(range(1,37)), data['Energia MWh'], marker='.', color='blue', label='Consumo Histórico')\n",
    "plt.plot(list(range(1,37)), fitted_values_RL, marker='.', color='red', label='Regresión Lineal')\n",
    "\n",
    "# Personalizar la gráfica\n",
    "plt.xlabel('Periodo')\n",
    "plt.ylabel('Energía MWh')\n",
    "plt.title('ENSA 2021 - 2023')\n",
    "plt.legend()\n",
    "plt.grid(True)\n",
    "\n",
    "# Mostrar la gráfica\n",
    "plt.show()"
   ]
  },
  {
   "cell_type": "markdown",
   "id": "5e4ae47c-d92e-43fd-9617-99d54ffda13f",
   "metadata": {},
   "source": [
    "### Modelo Sarima"
   ]
  },
  {
   "cell_type": "code",
   "execution_count": null,
   "id": "2f010c31-c261-452a-80f6-7924c6379cac",
   "metadata": {
    "tags": []
   },
   "outputs": [],
   "source": [
    "model_SARIMAX = SARIMAX(data['Energia MWh'], order=(1, 1, 1), seasonal_order=(1, 1, 1, 12)).fit()\n",
    "forecast_SARIMAX = model_SARIMAX.forecast(steps=8)\n",
    "print(forecast_SARIMAX)"
   ]
  },
  {
   "cell_type": "code",
   "execution_count": null,
   "id": "3f776b15-cb32-4dc7-91be-4dcb734ee2c2",
   "metadata": {
    "tags": []
   },
   "outputs": [],
   "source": [
    "# Cálculo de errores\n",
    "fitted_values_SARIMAX = model_SARIMAX.fittedvalues\n",
    "\n",
    "# MAD\n",
    "mad_SARIMAX = np.mean(np.abs(data['Energia MWh'] - fitted_values_SARIMAX))\n",
    "print(f\"MAD: {mad_SARIMAX}\")\n",
    "\n",
    "# MAPE\n",
    "mape_SARIMAX = np.mean(np.abs((data['Energia MWh'] - fitted_values_SARIMAX) / data['Energia MWh'])) * 100\n",
    "print(f\"MAPE: {mape_SARIMAX}%\")"
   ]
  },
  {
   "cell_type": "code",
   "execution_count": null,
   "id": "eb4034b0-c0fb-4ebb-8cd5-b18ba09be2af",
   "metadata": {
    "tags": []
   },
   "outputs": [],
   "source": [
    "#Graficamos\n",
    "# Crear la figura y los ejes\n",
    "plt.figure(figsize=(10, 6))\n",
    "\n",
    "# Graficar los datos históricos\n",
    "plt.plot(list(range(1,37)), data['Energia MWh'], marker='.', color='blue', label='Consumo Histórico')\n",
    "plt.plot(list(range(1,37)), fitted_values_SARIMAX, marker='.', color='red', label='SARIMAX')\n",
    "\n",
    "# Personalizar la gráfica\n",
    "plt.xlabel('Periodo')\n",
    "plt.ylabel('Energía MWh')\n",
    "plt.title('ENSA 2021 - 2023')\n",
    "plt.legend()\n",
    "plt.grid(True)\n",
    "\n",
    "# Mostrar la gráfica\n",
    "plt.show()"
   ]
  },
  {
   "cell_type": "markdown",
   "id": "2a9972c0-9de6-4a74-8239-c258c3cc7cb4",
   "metadata": {},
   "source": [
    "### Modelo Prophet"
   ]
  },
  {
   "cell_type": "code",
   "execution_count": null,
   "id": "4e92d1c5-40b7-4772-bf43-4a0b5b9ea051",
   "metadata": {
    "tags": []
   },
   "outputs": [],
   "source": [
    "\n",
    "data1 = {\n",
    "    'ds': ['2021-01-01', '2021-02-01', '2021-03-01', '2021-04-01', '2021-05-01',\n",
    "           '2021-06-01', '2021-07-01', '2021-08-01', '2021-09-01', '2021-10-01',\n",
    "           '2021-11-01', '2021-12-01', '2022-01-01', '2022-02-01', '2022-03-01',\n",
    "           '2022-04-01', '2022-05-01', '2022-06-01', '2022-07-01', '2022-08-01',\n",
    "           '2022-09-01', '2022-10-01', '2022-11-01', '2022-12-01', '2023-01-01',\n",
    "           '2023-02-01', '2023-03-01', '2023-04-01', '2023-05-01', '2023-06-01',\n",
    "           '2023-07-01', '2023-08-01', '2023-09-01', '2023-10-01', '2023-11-01',\n",
    "           '2023-12-01'],\n",
    "    'y': [232635168, 226840103, 242701941, 251443203, 251667868, 247422919, 253772321,\n",
    "          251355408, 245272330, 249948530, 240632020, 248424779, 248484404, 241942944,\n",
    "          254560420, 261669170, 262535423, 252361393, 252123727, 255272872, 251293531,\n",
    "          250601276, 241522632, 254556267, 250119557, 241106027, 262660841, 267785178,\n",
    "          282952947, 276303521, 272573028, 278698818, 277187182, 276373692, 257876226,\n",
    "          279785978]\n",
    "}\n",
    "\n",
    "df = pd.DataFrame(data1)\n",
    "\n",
    "# Convertir la columna de fechas a tipo datetime\n",
    "df['ds'] = pd.to_datetime(df['ds'])\n",
    "\n",
    "# Inicializar y ajustar el modelo\n",
    "model = Prophet()\n",
    "model.fit(df)\n",
    "\n",
    "# Crear un DataFrame para futuras predicciones (ajusta periods según tus necesidades)\n",
    "future = model.make_future_dataframe(periods=12, freq='M')\n",
    "\n",
    "# Usar el modelo para hacer predicciones\n",
    "forecast_prophet = model.predict(future)\n",
    "\n",
    "# Imprimir o graficar las predicciones según sea necesario\n",
    "print(forecast_prophet[['ds', 'yhat', 'yhat_lower', 'yhat_upper']])\n"
   ]
  },
  {
   "cell_type": "code",
   "execution_count": null,
   "id": "1afab55b-a919-4a5f-b482-55c39e4a1aa7",
   "metadata": {},
   "outputs": [],
   "source": [
    "# Cálculo de errores\n",
    "fitted_values_prophet = model.predict(df)['yhat']\n",
    "\n",
    "# MAD\n",
    "mad_prophet = np.mean(np.abs(df['y'] - fitted_values_prophet))\n",
    "print(f\"MAD: {mad_prophet}\")\n",
    "\n",
    "# MAPE\n",
    "mape_prophet = np.mean(np.abs((df['y'] - fitted_values_prophet) / df['y'])) * 100\n",
    "print(f\"MAPE: {mape_prophet}%\")"
   ]
  },
  {
   "cell_type": "code",
   "execution_count": null,
   "id": "b860f022-319f-4b41-8d25-e7f67333028d",
   "metadata": {
    "tags": []
   },
   "outputs": [],
   "source": [
    "#Graficamos\n",
    "# Crear la figura y los ejes\n",
    "plt.figure(figsize=(10, 6))\n",
    "\n",
    "# Graficar los datos históricos\n",
    "plt.plot(list(range(1,37)), data1['y'], marker='.', color='blue', label='Consumo Histórico')\n",
    "plt.plot(list(range(1,37)), fitted_values_prophet, marker='.', color='red', label='Prophet')\n",
    "\n",
    "# Personalizar la gráfica\n",
    "plt.xlabel('Periodo')\n",
    "plt.ylabel('Energía MWh')\n",
    "plt.title('ENSA 2021 - 2023')\n",
    "plt.legend()\n",
    "plt.grid(True)\n",
    "\n",
    "# Mostrar la gráfica\n",
    "plt.show()"
   ]
  },
  {
   "cell_type": "code",
   "execution_count": null,
   "id": "5f233f3e-2caf-4039-b134-ef9b4600f9af",
   "metadata": {},
   "outputs": [],
   "source": [
    "#Graficamos\n",
    "# Crear la figura y los ejes\n",
    "plt.figure(figsize=(10, 6))\n",
    "\n",
    "# Graficar los datos históricos\n",
    "plt.plot(list(range(1,37)), data['Energia MWh'], marker='.', color='blue', label='Consumo Histórico')\n",
    "\n",
    "\n",
    "# Graficar la predicción de promedio movil\n",
    "plt.scatter(37, 272805770, color='red', s=50, marker='H', label='Predicción Promedio Movil')\n",
    "plt.plot([36, 37], [data['Energia MWh'].iloc[-1], 272805770], color='red')  # Línea para conectar el último punto histórico con la predicción\n",
    "\n",
    "#Graficar la prediccion de suavizacion exponencial simple \n",
    "plt.scatter(37, 2.745158e+08, color='aqua', s=50, marker='H', label='Predicción Suavización Exponencial Simple')\n",
    "plt.plot([36, 37], [data['Energia MWh'].iloc[-1], 2.745158e+08], color='aqua')  # Línea para conectar el último punto histórico con la predicción\n",
    "\n",
    "periodos_prediccion = list(range(37, 45))\n",
    "\n",
    "#Graficar las predicciones Holt\n",
    "plt.plot(periodos_prediccion, forecast_holt.values, marker='o', color='green', label='Predicción Holt')\n",
    "plt.plot([36, 37], [data['Energia MWh'].iloc[-1], 2.771269e+08 ], color='green')\n",
    "\n",
    "#Graficar las predicciones Holt-Winter\n",
    "plt.plot(periodos_prediccion, forecast_HW.values, marker='o', color='deeppink', label='Predicción Holt-Winter')\n",
    "plt.plot([36, 37], [data['Energia MWh'].iloc[-1], 2.736294e+08 ], color='deeppink')\n",
    "\n",
    "#Graficar las predicciones Sarimax\n",
    "plt.plot(periodos_prediccion, forecast_SARIMAX.values, marker='o', color='chartreuse', label='Predicción Sarimax')\n",
    "plt.plot([36, 37], [data['Energia MWh'].iloc[-1],  2.717389e+08 ], color='chartreuse')\n",
    "\n",
    "#Graficar las predicciones Prophet\n",
    "plt.plot(periodos_prediccion, forecast_prophet[\"yhat\"].loc[36:43] , marker='o', color='darkmagenta', label='Predicción Prophet')\n",
    "plt.plot([36, 37], [data['Energia MWh'].iloc[-1],  2.771098e+08 ], color='darkmagenta')\n",
    "\n",
    "\n",
    "\n",
    "# Personalizar la gráfica\n",
    "plt.xlabel('Periodo')\n",
    "plt.ylabel('Energía MWh')\n",
    "plt.title('Consumo de Energía en Panamá (ENSA)')\n",
    "plt.legend()\n",
    "plt.grid(True)\n",
    "\n",
    "# Mostrar la gráfica\n",
    "plt.show()"
   ]
  },
  {
   "cell_type": "code",
   "execution_count": null,
   "id": "481dc781-7294-49eb-b8e4-3f3a2d1dbc33",
   "metadata": {},
   "outputs": [],
   "source": [
    "# Crear un DataFrame con las métricas\n",
    "dict_metricas = {\n",
    "    'Modelo': ['Promedio Movil', 'Suavización Exponencial', 'Holt', 'Holt-Winter', 'Sarimax', 'Regresión', 'Prophet'],\n",
    "    'MAD': [mad_prom_movil, mad_exp_simple, mad_holt, mad_HW, mad_SARIMAX, mad_RL, mad_prophet],\n",
    "    'MAPE': [mape_prom_movil, mape_exp_simple, mape_holt, mape_HW, mape_SARIMAX, mape_RL, mape_prophet],\n",
    "    'STD': [mad_prom_movil*1.25, mad_exp_simple*1.25, mad_holt*1.25, mad_HW*1.25, mad_SARIMAX*1.25, mad_RL*1.25, mad_prophet*1.25]\n",
    "}\n",
    "\n",
    "df_metricas = pd.DataFrame(dict_metricas)\n",
    "\n",
    "# Convertir el DataFrame a formato tabulado\n",
    "table = tabulate(df_metricas, headers='keys', tablefmt='fancy_grid')\n",
    "\n",
    "# Mostrar la tabla formateada\n",
    "print(table)"
   ]
  },
  {
   "cell_type": "code",
   "execution_count": null,
   "id": "2b3a9421-a965-43a0-b1cc-da09e7f03abb",
   "metadata": {},
   "outputs": [],
   "source": []
  }
 ],
 "metadata": {
  "kernelspec": {
   "display_name": "Python 3 (ipykernel)",
   "language": "python",
   "name": "python3"
  },
  "language_info": {
   "codemirror_mode": {
    "name": "ipython",
    "version": 3
   },
   "file_extension": ".py",
   "mimetype": "text/x-python",
   "name": "python",
   "nbconvert_exporter": "python",
   "pygments_lexer": "ipython3",
   "version": "3.11.4"
  }
 },
 "nbformat": 4,
 "nbformat_minor": 5
}
